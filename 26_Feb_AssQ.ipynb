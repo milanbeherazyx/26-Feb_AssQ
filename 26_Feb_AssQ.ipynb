{
 "cells": [
  {
   "cell_type": "code",
   "execution_count": 23,
   "metadata": {},
   "outputs": [],
   "source": [
    "\n",
    "import warnings\n",
    "warnings.filterwarnings(\"ignore\")\n",
    "\n",
    "import logging\n",
    "logging.basicConfig(filename='26_Feb_AssQ', level=logging.DEBUG)"
   ]
  },
  {
   "attachments": {},
   "cell_type": "markdown",
   "metadata": {},
   "source": [
    "Consider the below code to answer further questions:\n",
    "import numpy as np\n",
    "list_ = [ ‘1’ , ’2’ , ‘3’ , ‘4’ , ‘5’ ]\n",
    "array_list = np.array(object = list_)"
   ]
  },
  {
   "attachments": {},
   "cell_type": "markdown",
   "metadata": {},
   "source": [
    "Q1. Is there any difference in the data type of variables list_ and array_list? If there is then write a code\n",
    "to logging.debug the data types of both the variables."
   ]
  },
  {
   "attachments": {},
   "cell_type": "markdown",
   "metadata": {},
   "source": [
    "Yes, there is a difference in the data type of variables list_ and array_list.\n",
    "\n",
    "The variable list_ is a Python list, which can hold objects of different data types such as integers, floats, strings, etc. On the other hand, array_list is a NumPy array, which is designed to hold homogeneous data types.\n",
    "\n",
    "To logging.debug the data types of both variables, you can use the type() function in Python as follows:"
   ]
  },
  {
   "cell_type": "code",
   "execution_count": 24,
   "metadata": {},
   "outputs": [],
   "source": [
    "import numpy as np\n",
    "\n",
    "list_ = [ '1' , '2' , '3' , '4' , '5' ]\n",
    "array_list = np.array(object=list_)\n",
    "\n",
    "logging.debug(type(list_))\n",
    "logging.debug(type(array_list))\n"
   ]
  },
  {
   "attachments": {},
   "cell_type": "markdown",
   "metadata": {},
   "source": [
    "Q2. Write a code to logging.debug the data type of each and every element of both the variables list_ and\n",
    "arra_list."
   ]
  },
  {
   "attachments": {},
   "cell_type": "markdown",
   "metadata": {},
   "source": [
    "To logging.debug the data type of each element in list_ and array_list, you can use a for loop along with the type() function in Python. Here is the code:"
   ]
  },
  {
   "cell_type": "code",
   "execution_count": 25,
   "metadata": {},
   "outputs": [],
   "source": [
    "import numpy as np\n",
    "\n",
    "list_ = [ '1' , '2' , '3' , '4' , '5' ]\n",
    "array_list = np.array(object=list_)\n",
    "\n",
    "# logging.debug data type of each element in the list\n",
    "for element in list_:\n",
    "    logging.debug(type(element))\n",
    "\n",
    "# logging.debug data type of each element in the NumPy array\n",
    "for element in array_list:\n",
    "    logging.debug(type(element))\n"
   ]
  },
  {
   "attachments": {},
   "cell_type": "markdown",
   "metadata": {},
   "source": [
    "Q3. Considering the following changes in the variable, array_list:\n",
    "array_list = np.array(object = list_, dtype = int)\n",
    "Will there be any difference in the data type of the elements present in both the variables, list_ and\n",
    "arra_list? If so then logging.debug the data types of each and every element present in both the variables, list_\n",
    "and arra_list.\n",
    "Consider the below code to answer further questions:\n",
    "import numpy as np\n",
    "num_list = [ [ 1 , 2 , 3 ] , [ 4 , 5 , 6 ] ]\n",
    "num_array = np.array(object = num_list)"
   ]
  },
  {
   "attachments": {},
   "cell_type": "markdown",
   "metadata": {},
   "source": [
    "Yes, there will be a difference in the data type of the elements present in both variables list_ and array_list after applying the dtype parameter. In the original code, all elements in list_ were strings. However, in the modified code, the dtype parameter is explicitly set to int, which means that all the elements in the resulting NumPy array will be of the integer data type.\n",
    "\n",
    "To logging.debug the data types of each element present in both variables list_ and array_list, you can use a for loop along with the type() function in Python. Here is the modified code:"
   ]
  },
  {
   "cell_type": "code",
   "execution_count": 26,
   "metadata": {},
   "outputs": [],
   "source": [
    "import numpy as np\n",
    "\n",
    "# Modified code for Q3\n",
    "list_ = [ '1' , '2' , '3' , '4' , '5' ]\n",
    "array_list = np.array(object=list_, dtype=int)\n",
    "\n",
    "# logging.debug data type of each element in the original list\n",
    "for element in list_:\n",
    "    logging.debug(type(element))\n",
    "\n",
    "# logging.debug data type of each element in the modified NumPy array\n",
    "for element in array_list:\n",
    "    logging.debug(type(element))\n"
   ]
  },
  {
   "attachments": {},
   "cell_type": "markdown",
   "metadata": {},
   "source": [
    "This confirms that all the elements in list_ are of the string data type, whereas all the elements in the modified array_list are of the integer data type (numpy.int64).\n",
    "\n",
    "Regarding the second part of your question, the code you provided creates a NumPy array called num_array from a nested list called num_list. Since all the elements in num_list are integers, all the elements in num_array will also be of the integer data type. If you want to logging.debug the data types of each element in num_list and num_array, you can use the following code:"
   ]
  },
  {
   "cell_type": "code",
   "execution_count": 27,
   "metadata": {},
   "outputs": [],
   "source": [
    "import numpy as np\n",
    "\n",
    "num_list = [ [ 1 , 2 , 3 ] , [ 4 , 5 , 6 ] ]\n",
    "num_array = np.array(object=num_list)\n",
    "\n",
    "# logging.debug data type of each element in the original nested list\n",
    "for sublist in num_list:\n",
    "    for element in sublist:\n",
    "        logging.debug(type(element))\n",
    "\n",
    "# logging.debug data type of each element in the NumPy array\n",
    "for sublist in num_array:\n",
    "    for element in sublist:\n",
    "        logging.debug(type(element))\n"
   ]
  },
  {
   "cell_type": "markdown",
   "metadata": {},
   "source": [
    "This confirms that all the elements in num_list are of the integer data type, and all the elements in num_array are of the integer data type (numpy.int64)."
   ]
  },
  {
   "attachments": {},
   "cell_type": "markdown",
   "metadata": {},
   "source": [
    "Q4. Write a code to find the following characteristics of variable, num_array:\n",
    "(i) shape\n",
    "(ii) size"
   ]
  },
  {
   "attachments": {},
   "cell_type": "markdown",
   "metadata": {},
   "source": [
    "To find the shape and size of a NumPy array, you can use the shape and size attributes of the array, respectively. Here is the code to find the shape and size of the num_array variable:"
   ]
  },
  {
   "cell_type": "code",
   "execution_count": 28,
   "metadata": {},
   "outputs": [
    {
     "name": "stdout",
     "output_type": "stream",
     "text": [
      "Size of num_array: 6\n"
     ]
    }
   ],
   "source": [
    "import numpy as np\n",
    "\n",
    "num_list = [[1, 2, 3], [4, 5, 6]]\n",
    "\n",
    "try:\n",
    "    # Create a NumPy array\n",
    "    num_array = np.array(num_list)\n",
    "\n",
    "    # Find the shape of the NumPy array\n",
    "    shape = num_array.shape\n",
    "    logging.debug(\"Shape of num_array: %s\", shape)\n",
    "\n",
    "    # Find the size of the NumPy array\n",
    "    size = num_array.size\n",
    "    logging.debug(\"Size of num_array: %s\", size)\n",
    "\n",
    "    print(\"Size of num_array:\", size)\n",
    "\n",
    "except Exception as e:\n",
    "    logging.error(str(e))\n",
    "\n"
   ]
  },
  {
   "cell_type": "markdown",
   "metadata": {},
   "source": [
    "This confirms that the shape of num_array is a tuple with 2 rows and 3 columns, and the size of num_array is 6 (i.e., it contains 6 elements in total)."
   ]
  },
  {
   "attachments": {},
   "cell_type": "markdown",
   "metadata": {},
   "source": [
    "Q5. Write a code to create numpy array of 3*3 matrix containing zeros only, using a numpy array\n",
    "creation function.\n",
    "[Hint: The size of the array will be 9 and the shape will be (3,3).]"
   ]
  },
  {
   "attachments": {},
   "cell_type": "markdown",
   "metadata": {},
   "source": [
    "You can use the numpy.zeros() function to create a NumPy array of a specific shape with all elements set to 0. Here's the code to create a 3x3 matrix with all elements set to 0:"
   ]
  },
  {
   "cell_type": "code",
   "execution_count": 29,
   "metadata": {},
   "outputs": [],
   "source": [
    "import numpy as np\n",
    "\n",
    "# Create a 3x3 NumPy array with all elements set to 0\n",
    "zeros_array = np.zeros(shape=(3, 3))\n",
    "\n",
    "# logging.debug the array\n",
    "logging.debug(zeros_array)\n"
   ]
  },
  {
   "cell_type": "markdown",
   "metadata": {},
   "source": [
    "Q6. Create an identity matrix of shape (5,5) using numpy functions?\n",
    "[Hint: An identity matrix is a matrix containing 1 diagonally and other elements will be 0.]"
   ]
  },
  {
   "attachments": {},
   "cell_type": "markdown",
   "metadata": {},
   "source": [
    "You can use the numpy.identity() function to create an identity matrix of a specific size. Here's the code to create a 5x5 identity matrix:"
   ]
  },
  {
   "cell_type": "code",
   "execution_count": 30,
   "metadata": {},
   "outputs": [],
   "source": [
    "import numpy as np\n",
    "\n",
    "# Create a 5x5 identity matrix using numpy\n",
    "identity_matrix = np.identity(n=5)\n",
    "\n",
    "# logging.debug the identity matrix\n",
    "logging.debug(identity_matrix)\n"
   ]
  },
  {
   "cell_type": "markdown",
   "metadata": {},
   "source": [
    "This confirms that the identity_matrix variable is a 5x5 identity matrix with all diagonal elements set to 1 and all other elements set to 0."
   ]
  },
  {
   "cell_type": "code",
   "execution_count": 31,
   "metadata": {},
   "outputs": [],
   "source": [
    "logging.shutdown()"
   ]
  },
  {
   "cell_type": "code",
   "execution_count": null,
   "metadata": {},
   "outputs": [],
   "source": []
  }
 ],
 "metadata": {
  "kernelspec": {
   "display_name": "Python 3",
   "language": "python",
   "name": "python3"
  },
  "language_info": {
   "codemirror_mode": {
    "name": "ipython",
    "version": 3
   },
   "file_extension": ".py",
   "mimetype": "text/x-python",
   "name": "python",
   "nbconvert_exporter": "python",
   "pygments_lexer": "ipython3",
   "version": "3.11.2"
  },
  "orig_nbformat": 4
 },
 "nbformat": 4,
 "nbformat_minor": 2
}
